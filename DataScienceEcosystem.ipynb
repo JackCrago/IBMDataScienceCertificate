{
 "cells": [
  {
   "cell_type": "markdown",
   "id": "b12ab205-d20a-4a55-965c-b688622b60ec",
   "metadata": {},
   "source": [
    "# Data Science Tools and Ecosystem"
   ]
  },
  {
   "cell_type": "markdown",
   "id": "ec3fc3fe-58df-4578-9ebc-f1aee982e923",
   "metadata": {},
   "source": [
    "In this notebook we will summarise Data Science Tools and Ecosystems."
   ]
  },
  {
   "cell_type": "markdown",
   "id": "444b8c77-5456-411c-9af2-4d9934fcb1a4",
   "metadata": {},
   "source": [
    "**Objectives:**\n",
    "- List popular Data Science languages\n",
    "- List popular Data Science libraries\n",
    "- List popular Data Science tools\n",
    "- Provide examples of simple arithmetic in Python"
   ]
  },
  {
   "cell_type": "markdown",
   "id": "85a4b465-5fba-4bce-a65d-d9c57cd9c7bc",
   "metadata": {},
   "source": [
    "Some of the popular Data Science laguages are:\n",
    "1. Python\n",
    "2. R\n",
    "3. SQL\n",
    "4. Julia"
   ]
  },
  {
   "cell_type": "markdown",
   "id": "8daa4588-8578-42c5-b6a3-891e5e7d5df3",
   "metadata": {},
   "source": [
    "Some commonly used Data Science libraries are:\n",
    "1. Pandas\n",
    "2. NumPy\n",
    "3. scikit-learn\n",
    "4. ggplot2"
   ]
  },
  {
   "cell_type": "markdown",
   "id": "df1f4c17-d6f7-4537-a5e7-b1181015eecc",
   "metadata": {},
   "source": [
    "| Data Science Tools|\n",
    "-----\n",
    "|Rstudio|\n",
    "|JupyterLab|\n",
    "|Apache Spark|"
   ]
  },
  {
   "cell_type": "markdown",
   "id": "06f040e9-f310-42eb-a2fe-2d581239428e",
   "metadata": {},
   "source": [
    "### Below are some examples of arithmetic expressions in Python:"
   ]
  },
  {
   "cell_type": "code",
   "execution_count": 1,
   "id": "fb9ba890-c8ba-4e26-902f-46a03d0a8362",
   "metadata": {
    "tags": []
   },
   "outputs": [
    {
     "data": {
      "text/plain": [
       "17"
      ]
     },
     "execution_count": 1,
     "metadata": {},
     "output_type": "execute_result"
    }
   ],
   "source": [
    "# This is a simple arithmetic expression to multiply then add integers\n",
    "(3*4)+5"
   ]
  },
  {
   "cell_type": "code",
   "execution_count": 2,
   "id": "4d81944e-3ae5-447e-a20b-16890a3ab575",
   "metadata": {
    "tags": []
   },
   "outputs": [
    {
     "data": {
      "text/plain": [
       "3.3333333333333335"
      ]
     },
     "execution_count": 2,
     "metadata": {},
     "output_type": "execute_result"
    }
   ],
   "source": [
    "# This will convert 200 minutes to hours by dividing by 60\n",
    "200/60"
   ]
  },
  {
   "cell_type": "markdown",
   "id": "d0eb10e1-e68f-43a1-a82a-015c61b0d9b7",
   "metadata": {},
   "source": [
    "## Author\n",
    "Jack"
   ]
  }
 ],
 "metadata": {
  "kernelspec": {
   "display_name": "Python",
   "language": "python",
   "name": "conda-env-python-py"
  },
  "language_info": {
   "codemirror_mode": {
    "name": "ipython",
    "version": 3
   },
   "file_extension": ".py",
   "mimetype": "text/x-python",
   "name": "python",
   "nbconvert_exporter": "python",
   "pygments_lexer": "ipython3",
   "version": "3.7.12"
  }
 },
 "nbformat": 4,
 "nbformat_minor": 5
}
